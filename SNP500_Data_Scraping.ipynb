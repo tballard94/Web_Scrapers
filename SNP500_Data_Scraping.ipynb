{
 "cells": [
  {
   "cell_type": "code",
   "execution_count": null,
   "metadata": {},
   "outputs": [],
   "source": [
    "import pandas as pd # library for data analysis\n",
    "import requests # library to handle requests\n",
    "from bs4 import BeautifulSoup # library to parse HTML documents\n",
    "import yfinance as yf\n",
    "import os, contextlib"
   ]
  },
  {
   "cell_type": "code",
   "execution_count": null,
   "metadata": {},
   "outputs": [],
   "source": [
    "period = '5y'"
   ]
  },
  {
   "cell_type": "code",
   "execution_count": null,
   "metadata": {},
   "outputs": [],
   "source": [
    "# get list of 500 companies from wikipedia\n",
    "wikiurl=\"https://en.wikipedia.org/wiki/List_of_S%26P_500_companies\"\n",
    "table_class=\"wikitable sortable jquery-tablesorter\"\n",
    "response=requests.get(wikiurl)"
   ]
  },
  {
   "cell_type": "code",
   "execution_count": null,
   "metadata": {},
   "outputs": [],
   "source": [
    "# parse data from the html into a beautifulsoup object\n",
    "soup = BeautifulSoup(response.text, 'html.parser')\n",
    "stocks = soup.find('table',{'class':\"wikitable\"})"
   ]
  },
  {
   "cell_type": "code",
   "execution_count": null,
   "metadata": {},
   "outputs": [],
   "source": [
    "df = pd.read_html(str(stocks))\n",
    "\n",
    "# convert list to dataframe\n",
    "df = pd.DataFrame(df[0])\n",
    "\n",
    "# cols to keep\n",
    "cols = ['Symbol', 'Security', 'GICS Sector', 'GICS Sub-Industry', 'Date first added']\n",
    "\n",
    "sp500 = df.loc[:,cols].sort_values(by = 'Symbol')\n",
    "\n",
    "sp500.to_csv('sp500_metadata.csv', index = False)"
   ]
  },
  {
   "cell_type": "code",
   "execution_count": null,
   "metadata": {},
   "outputs": [],
   "source": [
    "# saving list from the S&P metadata\n",
    "symbols = list(sp500['Symbol'])\n",
    "\n",
    "date_range = period\n",
    "    \n",
    "stock_list = []\n",
    "\n",
    "for ticker in symbols:\n",
    "    df = pd.DataFrame(yf.download(ticker, period = period,auto_adjust = True))\n",
    "    df['Ticker'] = '{}'.format(ticker)\n",
    "    stock_list.append(df)\n",
    "\n",
    "dataframe = pd.concat(stock_list, axis=0).reset_index()"
   ]
  },
  {
   "cell_type": "code",
   "execution_count": null,
   "metadata": {},
   "outputs": [],
   "source": [
    "# formatting the order of dataframe\n",
    "order = ['Date', 'Ticker', 'Open', 'High', 'Low', 'Close', 'Volume']\n",
    "\n",
    "dataframe = dataframe.loc[:,order]"
   ]
  },
  {
   "cell_type": "code",
   "execution_count": null,
   "metadata": {},
   "outputs": [],
   "source": [
    "dataframe.to_csv('sp500_prices_{}.csv'.format(period), index = False)"
   ]
  },
  {
   "cell_type": "code",
   "execution_count": null,
   "metadata": {},
   "outputs": [],
   "source": []
  },
  {
   "cell_type": "code",
   "execution_count": null,
   "metadata": {},
   "outputs": [],
   "source": []
  }
 ],
 "metadata": {
  "kernelspec": {
   "display_name": "Python 3",
   "language": "python",
   "name": "python3"
  },
  "language_info": {
   "codemirror_mode": {
    "name": "ipython",
    "version": 3
   },
   "file_extension": ".py",
   "mimetype": "text/x-python",
   "name": "python",
   "nbconvert_exporter": "python",
   "pygments_lexer": "ipython3",
   "version": "3.8.5"
  }
 },
 "nbformat": 4,
 "nbformat_minor": 4
}
